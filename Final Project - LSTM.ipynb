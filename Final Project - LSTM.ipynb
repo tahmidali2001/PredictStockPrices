{
 "cells": [
  {
   "cell_type": "markdown",
   "id": "3612d2d7",
   "metadata": {},
   "source": [
    "# Final Project: LSTM"
   ]
  },
  {
   "cell_type": "markdown",
   "id": "0ccaa8a2",
   "metadata": {},
   "source": [
    "# Importing Python Libraries"
   ]
  },
  {
   "cell_type": "code",
   "execution_count": 14,
   "id": "442cb29c",
   "metadata": {},
   "outputs": [],
   "source": [
    "%matplotlib inline \n",
    "import numpy as np\n",
    "import matplotlib.pyplot as plt\n",
    "import pandas as pd\n",
    "\n",
    "import tensorflow as tf\n",
    "from tensorflow import keras\n",
    "from tensorflow.keras import layers\n",
    "from tensorflow.keras.callbacks import ModelCheckpoint\n",
    "\n",
    "import io\n",
    "import imageio\n",
    "from IPython.display import Image, display\n",
    "from ipywidgets import widgets, Layout, HBox\n",
    "from sklearn.preprocessing import MinMaxScaler\n",
    "from tensorflow.keras.layers import Dense, LSTM, Dropout\n",
    "from tensorflow.keras.models import Sequential"
   ]
  },
  {
   "cell_type": "markdown",
   "id": "9b111a13",
   "metadata": {},
   "source": [
    "# Load dataset"
   ]
  },
  {
   "cell_type": "code",
   "execution_count": 6,
   "id": "286d4563",
   "metadata": {},
   "outputs": [
    {
     "data": {
      "text/html": [
       "<div>\n",
       "<style scoped>\n",
       "    .dataframe tbody tr th:only-of-type {\n",
       "        vertical-align: middle;\n",
       "    }\n",
       "\n",
       "    .dataframe tbody tr th {\n",
       "        vertical-align: top;\n",
       "    }\n",
       "\n",
       "    .dataframe thead th {\n",
       "        text-align: right;\n",
       "    }\n",
       "</style>\n",
       "<table border=\"1\" class=\"dataframe\">\n",
       "  <thead>\n",
       "    <tr style=\"text-align: right;\">\n",
       "      <th></th>\n",
       "      <th>Date</th>\n",
       "      <th>Open</th>\n",
       "      <th>High</th>\n",
       "      <th>Low</th>\n",
       "      <th>Close</th>\n",
       "      <th>Adj Close</th>\n",
       "      <th>Volume</th>\n",
       "    </tr>\n",
       "  </thead>\n",
       "  <tbody>\n",
       "    <tr>\n",
       "      <th>0</th>\n",
       "      <td>1/4/2023</td>\n",
       "      <td>126.889999</td>\n",
       "      <td>128.660004</td>\n",
       "      <td>125.080002</td>\n",
       "      <td>126.360001</td>\n",
       "      <td>125.657639</td>\n",
       "      <td>89113600</td>\n",
       "    </tr>\n",
       "    <tr>\n",
       "      <th>1</th>\n",
       "      <td>1/5/2023</td>\n",
       "      <td>127.129997</td>\n",
       "      <td>127.769997</td>\n",
       "      <td>124.760002</td>\n",
       "      <td>125.019997</td>\n",
       "      <td>124.325081</td>\n",
       "      <td>80962700</td>\n",
       "    </tr>\n",
       "    <tr>\n",
       "      <th>2</th>\n",
       "      <td>1/6/2023</td>\n",
       "      <td>126.010002</td>\n",
       "      <td>130.289993</td>\n",
       "      <td>124.889999</td>\n",
       "      <td>129.619995</td>\n",
       "      <td>128.899521</td>\n",
       "      <td>87754700</td>\n",
       "    </tr>\n",
       "    <tr>\n",
       "      <th>3</th>\n",
       "      <td>1/9/2023</td>\n",
       "      <td>130.470001</td>\n",
       "      <td>133.410004</td>\n",
       "      <td>129.889999</td>\n",
       "      <td>130.149994</td>\n",
       "      <td>129.426575</td>\n",
       "      <td>70790800</td>\n",
       "    </tr>\n",
       "    <tr>\n",
       "      <th>4</th>\n",
       "      <td>1/10/2023</td>\n",
       "      <td>130.259995</td>\n",
       "      <td>131.259995</td>\n",
       "      <td>128.119995</td>\n",
       "      <td>130.729996</td>\n",
       "      <td>130.003342</td>\n",
       "      <td>63896200</td>\n",
       "    </tr>\n",
       "    <tr>\n",
       "      <th>...</th>\n",
       "      <td>...</td>\n",
       "      <td>...</td>\n",
       "      <td>...</td>\n",
       "      <td>...</td>\n",
       "      <td>...</td>\n",
       "      <td>...</td>\n",
       "      <td>...</td>\n",
       "    </tr>\n",
       "    <tr>\n",
       "      <th>233</th>\n",
       "      <td>12/7/2023</td>\n",
       "      <td>193.630005</td>\n",
       "      <td>195.000000</td>\n",
       "      <td>193.589996</td>\n",
       "      <td>194.270004</td>\n",
       "      <td>194.270004</td>\n",
       "      <td>47477700</td>\n",
       "    </tr>\n",
       "    <tr>\n",
       "      <th>234</th>\n",
       "      <td>12/8/2023</td>\n",
       "      <td>194.199997</td>\n",
       "      <td>195.990005</td>\n",
       "      <td>193.669998</td>\n",
       "      <td>195.710007</td>\n",
       "      <td>195.710007</td>\n",
       "      <td>53377300</td>\n",
       "    </tr>\n",
       "    <tr>\n",
       "      <th>235</th>\n",
       "      <td>12/11/2023</td>\n",
       "      <td>193.110001</td>\n",
       "      <td>193.490005</td>\n",
       "      <td>191.419998</td>\n",
       "      <td>193.179993</td>\n",
       "      <td>193.179993</td>\n",
       "      <td>60943700</td>\n",
       "    </tr>\n",
       "    <tr>\n",
       "      <th>236</th>\n",
       "      <td>12/12/2023</td>\n",
       "      <td>193.080002</td>\n",
       "      <td>194.720001</td>\n",
       "      <td>191.720001</td>\n",
       "      <td>194.710007</td>\n",
       "      <td>194.710007</td>\n",
       "      <td>52696900</td>\n",
       "    </tr>\n",
       "    <tr>\n",
       "      <th>237</th>\n",
       "      <td>12/13/2023</td>\n",
       "      <td>195.089996</td>\n",
       "      <td>198.000000</td>\n",
       "      <td>194.880005</td>\n",
       "      <td>197.960007</td>\n",
       "      <td>197.960007</td>\n",
       "      <td>66539683</td>\n",
       "    </tr>\n",
       "  </tbody>\n",
       "</table>\n",
       "<p>238 rows × 7 columns</p>\n",
       "</div>"
      ],
      "text/plain": [
       "           Date        Open        High         Low       Close   Adj Close  \\\n",
       "0      1/4/2023  126.889999  128.660004  125.080002  126.360001  125.657639   \n",
       "1      1/5/2023  127.129997  127.769997  124.760002  125.019997  124.325081   \n",
       "2      1/6/2023  126.010002  130.289993  124.889999  129.619995  128.899521   \n",
       "3      1/9/2023  130.470001  133.410004  129.889999  130.149994  129.426575   \n",
       "4     1/10/2023  130.259995  131.259995  128.119995  130.729996  130.003342   \n",
       "..          ...         ...         ...         ...         ...         ...   \n",
       "233   12/7/2023  193.630005  195.000000  193.589996  194.270004  194.270004   \n",
       "234   12/8/2023  194.199997  195.990005  193.669998  195.710007  195.710007   \n",
       "235  12/11/2023  193.110001  193.490005  191.419998  193.179993  193.179993   \n",
       "236  12/12/2023  193.080002  194.720001  191.720001  194.710007  194.710007   \n",
       "237  12/13/2023  195.089996  198.000000  194.880005  197.960007  197.960007   \n",
       "\n",
       "       Volume  \n",
       "0    89113600  \n",
       "1    80962700  \n",
       "2    87754700  \n",
       "3    70790800  \n",
       "4    63896200  \n",
       "..        ...  \n",
       "233  47477700  \n",
       "234  53377300  \n",
       "235  60943700  \n",
       "236  52696900  \n",
       "237  66539683  \n",
       "\n",
       "[238 rows x 7 columns]"
      ]
     },
     "execution_count": 6,
     "metadata": {},
     "output_type": "execute_result"
    }
   ],
   "source": [
    "dataset = pd.read_csv(\"AAPL.csv\")\n",
    "dataset"
   ]
  },
  {
   "cell_type": "markdown",
   "id": "5edd3bb5",
   "metadata": {},
   "source": [
    "# Train Sets Split and Data Normalization"
   ]
  },
  {
   "cell_type": "code",
   "execution_count": 11,
   "id": "84dd5391",
   "metadata": {},
   "outputs": [
    {
     "name": "stdout",
     "output_type": "stream",
     "text": [
      "(238, 1)\n"
     ]
    }
   ],
   "source": [
    "# Extracting the features and labels from the dataset \n",
    "training_set= dataset.iloc[:,1:2].values\n",
    "print(training_set.shape)\n",
    "scaler = MinMaxScaler(feature_range = (0,1))\n",
    "scaled_training_set = scaler.fit_transform(training_set)\n",
    "X_train = []\n",
    "Y_train = []\n",
    "for i in range(60,238):\n",
    "    X_train.append(scaled_training_set[i-60:i,0])\n",
    "    Y_train.append(scaled_training_set[i,0])\n",
    "X_train= np.array(X_train)\n",
    "Y_train= np.array(Y_train)"
   ]
  },
  {
   "cell_type": "code",
   "execution_count": 12,
   "id": "88cdf106",
   "metadata": {},
   "outputs": [
    {
     "data": {
      "text/plain": [
       "(178, 60, 1)"
      ]
     },
     "execution_count": 12,
     "metadata": {},
     "output_type": "execute_result"
    }
   ],
   "source": [
    "X_train = np.reshape(X_train,(X_train.shape[0],X_train.shape[1],1))\n",
    "X_train.shape"
   ]
  },
  {
   "cell_type": "markdown",
   "id": "0138106e",
   "metadata": {},
   "source": [
    "# LSTM"
   ]
  },
  {
   "cell_type": "code",
   "execution_count": 15,
   "id": "69bea6ff",
   "metadata": {},
   "outputs": [],
   "source": [
    "\n",
    "def my_LSTM_Model():\n",
    "\n",
    "    model = Sequential([\n",
    "        LSTM(units=50, return_sequences =True,input_shape = (X_train.shape[1],1)),\n",
    "        Dropout(0.2),\n",
    "        LSTM(units=50, return_sequences =True),\n",
    "        Dropout(0.2),\n",
    "        LSTM(units=50, return_sequences =True),\n",
    "        Dropout(0.2),\n",
    "        LSTM(units=50, return_sequences =True),\n",
    "        Dropout(0.2),\n",
    "        Dense(1)  \n",
    "    ])\n",
    "    model.compile(optimizer='adam', loss='mean_squared_error')\n",
    "    return model\n"
   ]
  },
  {
   "cell_type": "code",
   "execution_count": 16,
   "id": "48cbee3e",
   "metadata": {},
   "outputs": [
    {
     "name": "stdout",
     "output_type": "stream",
     "text": [
      "WARNING:tensorflow:From C:\\Users\\tahmi\\anaconda3\\Lib\\site-packages\\keras\\src\\layers\\rnn\\lstm.py:148: The name tf.executing_eagerly_outside_functions is deprecated. Please use tf.compat.v1.executing_eagerly_outside_functions instead.\n",
      "\n",
      "WARNING:tensorflow:From C:\\Users\\tahmi\\anaconda3\\Lib\\site-packages\\keras\\src\\optimizers\\__init__.py:309: The name tf.train.Optimizer is deprecated. Please use tf.compat.v1.train.Optimizer instead.\n",
      "\n",
      "Model: \"sequential\"\n",
      "_________________________________________________________________\n",
      " Layer (type)                Output Shape              Param #   \n",
      "=================================================================\n",
      " lstm (LSTM)                 (None, 60, 50)            10400     \n",
      "                                                                 \n",
      " dropout (Dropout)           (None, 60, 50)            0         \n",
      "                                                                 \n",
      " lstm_1 (LSTM)               (None, 60, 50)            20200     \n",
      "                                                                 \n",
      " dropout_1 (Dropout)         (None, 60, 50)            0         \n",
      "                                                                 \n",
      " lstm_2 (LSTM)               (None, 60, 50)            20200     \n",
      "                                                                 \n",
      " dropout_2 (Dropout)         (None, 60, 50)            0         \n",
      "                                                                 \n",
      " lstm_3 (LSTM)               (None, 60, 50)            20200     \n",
      "                                                                 \n",
      " dropout_3 (Dropout)         (None, 60, 50)            0         \n",
      "                                                                 \n",
      " dense (Dense)               (None, 60, 1)             51        \n",
      "                                                                 \n",
      "=================================================================\n",
      "Total params: 71051 (277.54 KB)\n",
      "Trainable params: 71051 (277.54 KB)\n",
      "Non-trainable params: 0 (0.00 Byte)\n",
      "_________________________________________________________________\n",
      "None\n"
     ]
    }
   ],
   "source": [
    "model = my_LSTM_Model()\n",
    "print(model.summary())"
   ]
  },
  {
   "cell_type": "code",
   "execution_count": 17,
   "id": "a1610ac1",
   "metadata": {
    "scrolled": true
   },
   "outputs": [
    {
     "name": "stdout",
     "output_type": "stream",
     "text": [
      "Epoch 1/50\n",
      "WARNING:tensorflow:From C:\\Users\\tahmi\\anaconda3\\Lib\\site-packages\\keras\\src\\utils\\tf_utils.py:492: The name tf.ragged.RaggedTensorValue is deprecated. Please use tf.compat.v1.ragged.RaggedTensorValue instead.\n",
      "\n",
      "6/6 [==============================] - 7s 60ms/step - loss: 0.3574\n",
      "Epoch 2/50\n",
      "6/6 [==============================] - 0s 58ms/step - loss: 0.1586\n",
      "Epoch 3/50\n",
      "6/6 [==============================] - 0s 55ms/step - loss: 0.1206\n",
      "Epoch 4/50\n",
      "6/6 [==============================] - 0s 54ms/step - loss: 0.0950\n",
      "Epoch 5/50\n",
      "6/6 [==============================] - 0s 55ms/step - loss: 0.0815\n",
      "Epoch 6/50\n",
      "6/6 [==============================] - 0s 54ms/step - loss: 0.0751\n",
      "Epoch 7/50\n",
      "6/6 [==============================] - 0s 57ms/step - loss: 0.0670\n",
      "Epoch 8/50\n",
      "6/6 [==============================] - 0s 56ms/step - loss: 0.0614\n",
      "Epoch 9/50\n",
      "6/6 [==============================] - 0s 54ms/step - loss: 0.0576\n",
      "Epoch 10/50\n",
      "6/6 [==============================] - 0s 54ms/step - loss: 0.0551\n",
      "Epoch 11/50\n",
      "6/6 [==============================] - 0s 54ms/step - loss: 0.0524\n",
      "Epoch 12/50\n",
      "6/6 [==============================] - 0s 54ms/step - loss: 0.0500\n",
      "Epoch 13/50\n",
      "6/6 [==============================] - 0s 56ms/step - loss: 0.0480\n",
      "Epoch 14/50\n",
      "6/6 [==============================] - 0s 56ms/step - loss: 0.0468\n",
      "Epoch 15/50\n",
      "6/6 [==============================] - 0s 55ms/step - loss: 0.0450\n",
      "Epoch 16/50\n",
      "6/6 [==============================] - 0s 55ms/step - loss: 0.0440\n",
      "Epoch 17/50\n",
      "6/6 [==============================] - 0s 55ms/step - loss: 0.0440\n",
      "Epoch 18/50\n",
      "6/6 [==============================] - 0s 55ms/step - loss: 0.0427\n",
      "Epoch 19/50\n",
      "6/6 [==============================] - 0s 57ms/step - loss: 0.0417\n",
      "Epoch 20/50\n",
      "6/6 [==============================] - 0s 62ms/step - loss: 0.0405\n",
      "Epoch 21/50\n",
      "6/6 [==============================] - 0s 59ms/step - loss: 0.0383\n",
      "Epoch 22/50\n",
      "6/6 [==============================] - 0s 60ms/step - loss: 0.0380\n",
      "Epoch 23/50\n",
      "6/6 [==============================] - 0s 60ms/step - loss: 0.0372\n",
      "Epoch 24/50\n",
      "6/6 [==============================] - 0s 55ms/step - loss: 0.0369\n",
      "Epoch 25/50\n",
      "6/6 [==============================] - 0s 60ms/step - loss: 0.0368\n",
      "Epoch 26/50\n",
      "6/6 [==============================] - 0s 59ms/step - loss: 0.0358\n",
      "Epoch 27/50\n",
      "6/6 [==============================] - 0s 59ms/step - loss: 0.0349\n",
      "Epoch 28/50\n",
      "6/6 [==============================] - 0s 58ms/step - loss: 0.0344\n",
      "Epoch 29/50\n",
      "6/6 [==============================] - 0s 56ms/step - loss: 0.0339\n",
      "Epoch 30/50\n",
      "6/6 [==============================] - 0s 56ms/step - loss: 0.0333\n",
      "Epoch 31/50\n",
      "6/6 [==============================] - 0s 57ms/step - loss: 0.0332\n",
      "Epoch 32/50\n",
      "6/6 [==============================] - 0s 56ms/step - loss: 0.0329\n",
      "Epoch 33/50\n",
      "6/6 [==============================] - 0s 56ms/step - loss: 0.0323\n",
      "Epoch 34/50\n",
      "6/6 [==============================] - 0s 55ms/step - loss: 0.0318\n",
      "Epoch 35/50\n",
      "6/6 [==============================] - 0s 55ms/step - loss: 0.0314\n",
      "Epoch 36/50\n",
      "6/6 [==============================] - 0s 57ms/step - loss: 0.0313\n",
      "Epoch 37/50\n",
      "6/6 [==============================] - 0s 57ms/step - loss: 0.0307\n",
      "Epoch 38/50\n",
      "6/6 [==============================] - 0s 56ms/step - loss: 0.0305\n",
      "Epoch 39/50\n",
      "6/6 [==============================] - 0s 55ms/step - loss: 0.0306\n",
      "Epoch 40/50\n",
      "6/6 [==============================] - 0s 55ms/step - loss: 0.0312\n",
      "Epoch 41/50\n",
      "6/6 [==============================] - 0s 55ms/step - loss: 0.0314\n",
      "Epoch 42/50\n",
      "6/6 [==============================] - 0s 57ms/step - loss: 0.0296\n",
      "Epoch 43/50\n",
      "6/6 [==============================] - 0s 56ms/step - loss: 0.0293\n",
      "Epoch 44/50\n",
      "6/6 [==============================] - 0s 57ms/step - loss: 0.0288\n",
      "Epoch 45/50\n",
      "6/6 [==============================] - 0s 56ms/step - loss: 0.0285\n",
      "Epoch 46/50\n",
      "6/6 [==============================] - 0s 55ms/step - loss: 0.0283\n",
      "Epoch 47/50\n",
      "6/6 [==============================] - 0s 55ms/step - loss: 0.0285\n",
      "Epoch 48/50\n",
      "6/6 [==============================] - 0s 57ms/step - loss: 0.0277\n",
      "Epoch 49/50\n",
      "6/6 [==============================] - 0s 56ms/step - loss: 0.0284\n",
      "Epoch 50/50\n",
      "6/6 [==============================] - 0s 55ms/step - loss: 0.0283\n"
     ]
    }
   ],
   "source": [
    "my_batch_size = 32\n",
    "my_epochs = 50\n",
    "\n",
    "history = model.fit(X_train, Y_train,\n",
    "                    batch_size=my_batch_size, epochs=my_epochs)"
   ]
  },
  {
   "cell_type": "code",
   "execution_count": 23,
   "id": "9a484c10",
   "metadata": {},
   "outputs": [],
   "source": [
    "testData= pd.read_csv(\"META.csv\")\n",
    "actual_stock_price = testData.iloc[:,1:2].values\n",
    "\n",
    "totalData = pd.concat((dataset['Open'],testData['Open']),axis=0)\n",
    "inputs = totalData[len(totalData)-len(testData)-60:].values\n",
    "\n",
    "inputs = inputs.reshape(-1,1)\n",
    "iputs = scaler.transform(inputs)\n",
    "\n",
    "X_test = []\n",
    "for i in range (60,80):\n",
    "    X_test.append(inputs[i-60:i,0])\n",
    "X_test = np.array(X_test)\n",
    "X_test = np.reshape(X_test,(X_test.shape[0],X_test.shape[1],1))\n"
   ]
  },
  {
   "cell_type": "code",
   "execution_count": 32,
   "id": "acbfa2d7",
   "metadata": {},
   "outputs": [
    {
     "name": "stdout",
     "output_type": "stream",
     "text": [
      "1/1 [==============================] - 0s 42ms/step\n"
     ]
    }
   ],
   "source": [
    "predictedStockPrice = model.predict(X_test)\n",
    "predictedStockPrice = predictedStockPrice.reshape(-1, 1)\n",
    "predictedStockPrice = scaler.inverse_transform(predictedStockPrice)\n"
   ]
  },
  {
   "cell_type": "code",
   "execution_count": 33,
   "id": "599f6dfb",
   "metadata": {},
   "outputs": [
    {
     "data": {
      "text/plain": [
       "<matplotlib.legend.Legend at 0x2835c6c3f90>"
      ]
     },
     "execution_count": 33,
     "metadata": {},
     "output_type": "execute_result"
    },
    {
     "data": {
      "image/png": "[encoded data removed]",
      "text/plain": [
       "<Figure size 640x480 with 1 Axes>"
      ]
     },
     "metadata": {},
     "output_type": "display_data"
    }
   ],
   "source": [
    "plt.plot(actual_stock_price, color = 'red', label = \"Actual Stock Price\")\n",
    "plt.plot(predictedStockPrice_inversed , color = 'blue', label = \"Predicted Stock Price\")\n",
    "plt.title(\"Stock Prediction\")\n",
    "plt.ylabel('Stock Price')\n",
    "plt.legend()"
   ]
  },
  {
   "cell_type": "code",
   "execution_count": null,
   "id": "8aaae142",
   "metadata": {},
   "outputs": [],
   "source": []
  }
 ],
 "metadata": {
  "kernelspec": {
   "display_name": "Python 3 (ipykernel)",
   "language": "python",
   "name": "python3"
  },
  "language_info": {
   "codemirror_mode": {
    "name": "ipython",
    "version": 3
   },
   "file_extension": ".py",
   "mimetype": "text/x-python",
   "name": "python",
   "nbconvert_exporter": "python",
   "pygments_lexer": "ipython3",
   "version": "3.11.5"
  }
 },
 "nbformat": 4,
 "nbformat_minor": 5
}
