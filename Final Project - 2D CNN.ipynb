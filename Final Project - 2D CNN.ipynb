{
 "cells": [
  {
   "cell_type": "markdown",
   "id": "3612d2d7",
   "metadata": {},
   "source": [
    "# Final Project: CNN"
   ]
  },
  {
   "cell_type": "markdown",
   "id": "e530a4cc",
   "metadata": {},
   "source": [
    "# Importing Python Libraries"
   ]
  },
  {
   "cell_type": "code",
   "execution_count": 36,
   "id": "442cb29c",
   "metadata": {},
   "outputs": [],
   "source": [
    "%matplotlib inline \n",
    "import tensorflow as tf\n",
    "from tensorflow.keras.utils import to_categorical # Function to convert labels to one-hot encoding\n",
    "import pandas as pd  \n",
    "import numpy as np \n",
    "import matplotlib.pyplot as plt \n",
    "\n",
    "from tensorflow.keras.models import Sequential\n",
    "from tensorflow.keras.layers import Conv1D, Flatten, Dense, Input, Dropout, MaxPool2D\n",
    "\n"
   ]
  },
  {
   "cell_type": "markdown",
   "id": "7017e2fa",
   "metadata": {},
   "source": [
    "# Load dataset"
   ]
  },
  {
   "cell_type": "code",
   "execution_count": 37,
   "id": "286d4563",
   "metadata": {},
   "outputs": [
    {
     "data": {
      "text/html": [
       "<div>\n",
       "<style scoped>\n",
       "    .dataframe tbody tr th:only-of-type {\n",
       "        vertical-align: middle;\n",
       "    }\n",
       "\n",
       "    .dataframe tbody tr th {\n",
       "        vertical-align: top;\n",
       "    }\n",
       "\n",
       "    .dataframe thead th {\n",
       "        text-align: right;\n",
       "    }\n",
       "</style>\n",
       "<table border=\"1\" class=\"dataframe\">\n",
       "  <thead>\n",
       "    <tr style=\"text-align: right;\">\n",
       "      <th></th>\n",
       "      <th>Date</th>\n",
       "      <th>Open</th>\n",
       "      <th>High</th>\n",
       "      <th>Low</th>\n",
       "      <th>Close</th>\n",
       "      <th>Adj Close</th>\n",
       "      <th>Volume</th>\n",
       "    </tr>\n",
       "  </thead>\n",
       "  <tbody>\n",
       "    <tr>\n",
       "      <th>0</th>\n",
       "      <td>1/4/2023</td>\n",
       "      <td>126.889999</td>\n",
       "      <td>128.660004</td>\n",
       "      <td>125.080002</td>\n",
       "      <td>126.360001</td>\n",
       "      <td>125.657639</td>\n",
       "      <td>89113600</td>\n",
       "    </tr>\n",
       "    <tr>\n",
       "      <th>1</th>\n",
       "      <td>1/5/2023</td>\n",
       "      <td>127.129997</td>\n",
       "      <td>127.769997</td>\n",
       "      <td>124.760002</td>\n",
       "      <td>125.019997</td>\n",
       "      <td>124.325081</td>\n",
       "      <td>80962700</td>\n",
       "    </tr>\n",
       "    <tr>\n",
       "      <th>2</th>\n",
       "      <td>1/6/2023</td>\n",
       "      <td>126.010002</td>\n",
       "      <td>130.289993</td>\n",
       "      <td>124.889999</td>\n",
       "      <td>129.619995</td>\n",
       "      <td>128.899521</td>\n",
       "      <td>87754700</td>\n",
       "    </tr>\n",
       "    <tr>\n",
       "      <th>3</th>\n",
       "      <td>1/9/2023</td>\n",
       "      <td>130.470001</td>\n",
       "      <td>133.410004</td>\n",
       "      <td>129.889999</td>\n",
       "      <td>130.149994</td>\n",
       "      <td>129.426575</td>\n",
       "      <td>70790800</td>\n",
       "    </tr>\n",
       "    <tr>\n",
       "      <th>4</th>\n",
       "      <td>1/10/2023</td>\n",
       "      <td>130.259995</td>\n",
       "      <td>131.259995</td>\n",
       "      <td>128.119995</td>\n",
       "      <td>130.729996</td>\n",
       "      <td>130.003342</td>\n",
       "      <td>63896200</td>\n",
       "    </tr>\n",
       "    <tr>\n",
       "      <th>...</th>\n",
       "      <td>...</td>\n",
       "      <td>...</td>\n",
       "      <td>...</td>\n",
       "      <td>...</td>\n",
       "      <td>...</td>\n",
       "      <td>...</td>\n",
       "      <td>...</td>\n",
       "    </tr>\n",
       "    <tr>\n",
       "      <th>233</th>\n",
       "      <td>12/7/2023</td>\n",
       "      <td>193.630005</td>\n",
       "      <td>195.000000</td>\n",
       "      <td>193.589996</td>\n",
       "      <td>194.270004</td>\n",
       "      <td>194.270004</td>\n",
       "      <td>47477700</td>\n",
       "    </tr>\n",
       "    <tr>\n",
       "      <th>234</th>\n",
       "      <td>12/8/2023</td>\n",
       "      <td>194.199997</td>\n",
       "      <td>195.990005</td>\n",
       "      <td>193.669998</td>\n",
       "      <td>195.710007</td>\n",
       "      <td>195.710007</td>\n",
       "      <td>53377300</td>\n",
       "    </tr>\n",
       "    <tr>\n",
       "      <th>235</th>\n",
       "      <td>12/11/2023</td>\n",
       "      <td>193.110001</td>\n",
       "      <td>193.490005</td>\n",
       "      <td>191.419998</td>\n",
       "      <td>193.179993</td>\n",
       "      <td>193.179993</td>\n",
       "      <td>60943700</td>\n",
       "    </tr>\n",
       "    <tr>\n",
       "      <th>236</th>\n",
       "      <td>12/12/2023</td>\n",
       "      <td>193.080002</td>\n",
       "      <td>194.720001</td>\n",
       "      <td>191.720001</td>\n",
       "      <td>194.710007</td>\n",
       "      <td>194.710007</td>\n",
       "      <td>52696900</td>\n",
       "    </tr>\n",
       "    <tr>\n",
       "      <th>237</th>\n",
       "      <td>12/13/2023</td>\n",
       "      <td>195.089996</td>\n",
       "      <td>198.000000</td>\n",
       "      <td>194.880005</td>\n",
       "      <td>197.960007</td>\n",
       "      <td>197.960007</td>\n",
       "      <td>66539683</td>\n",
       "    </tr>\n",
       "  </tbody>\n",
       "</table>\n",
       "<p>238 rows × 7 columns</p>\n",
       "</div>"
      ],
      "text/plain": [
       "           Date        Open        High         Low       Close   Adj Close  \\\n",
       "0      1/4/2023  126.889999  128.660004  125.080002  126.360001  125.657639   \n",
       "1      1/5/2023  127.129997  127.769997  124.760002  125.019997  124.325081   \n",
       "2      1/6/2023  126.010002  130.289993  124.889999  129.619995  128.899521   \n",
       "3      1/9/2023  130.470001  133.410004  129.889999  130.149994  129.426575   \n",
       "4     1/10/2023  130.259995  131.259995  128.119995  130.729996  130.003342   \n",
       "..          ...         ...         ...         ...         ...         ...   \n",
       "233   12/7/2023  193.630005  195.000000  193.589996  194.270004  194.270004   \n",
       "234   12/8/2023  194.199997  195.990005  193.669998  195.710007  195.710007   \n",
       "235  12/11/2023  193.110001  193.490005  191.419998  193.179993  193.179993   \n",
       "236  12/12/2023  193.080002  194.720001  191.720001  194.710007  194.710007   \n",
       "237  12/13/2023  195.089996  198.000000  194.880005  197.960007  197.960007   \n",
       "\n",
       "       Volume  \n",
       "0    89113600  \n",
       "1    80962700  \n",
       "2    87754700  \n",
       "3    70790800  \n",
       "4    63896200  \n",
       "..        ...  \n",
       "233  47477700  \n",
       "234  53377300  \n",
       "235  60943700  \n",
       "236  52696900  \n",
       "237  66539683  \n",
       "\n",
       "[238 rows x 7 columns]"
      ]
     },
     "execution_count": 37,
     "metadata": {},
     "output_type": "execute_result"
    }
   ],
   "source": [
    "dataset = pd.read_csv(\"AAPL.csv\")\n",
    "dataset"
   ]
  },
  {
   "cell_type": "markdown",
   "id": "20fc16dc",
   "metadata": {},
   "source": [
    "# Train, Validation and Test Sets Split"
   ]
  },
  {
   "cell_type": "code",
   "execution_count": 53,
   "id": "3ea4f0a0",
   "metadata": {},
   "outputs": [
    {
     "name": "stdout",
     "output_type": "stream",
     "text": [
      "X_train.shape =  (102, 34, 4)\n",
      "Y_train.shape =  (102,)\n"
     ]
    }
   ],
   "source": [
    "\n",
    "# Definig window size\n",
    "window_size = 34  # For example, 34 days\n",
    "\n",
    "# Function to create windowed data\n",
    "def create_windows(X, Y, window_size):\n",
    "    X_windows, Y_windows = [], []\n",
    "    for i in range(len(X) - window_size):\n",
    "        X_windows.append(X[i:i + window_size])\n",
    "        Y_windows.append(Y[i + window_size])\n",
    "    return np.array(X_windows), np.array(Y_windows)\n",
    "\n",
    "X = np.asarray(dataset[['Open', 'High', 'Low', 'Volume']])\n",
    "Y = np.asarray(dataset['Close'])\n",
    "\n",
    "# Create windowed sequences\n",
    "X_windowed, Y_windowed = create_windows(X, Y, window_size)\n",
    "\n",
    "\n",
    "# Then, we split our data into train/val/test sets\n",
    "train_split = int(0.5*Y_windowed.size)\n",
    "val_split = int(0.75*Y_windowed.size)\n",
    "\n",
    "X_train = X_windowed[:train_split,:]\n",
    "Y_train = Y_windowed[:train_split]\n",
    "\n",
    "X_val = X_windowed[train_split:val_split,:]\n",
    "Y_val = Y_windowed[train_split:val_split]\n",
    "\n",
    "X_test = X_windowed[val_split:,:]\n",
    "Y_test = X_windowed[val_split:]\n",
    "\n",
    "print(\"X_train.shape = \",X_train.shape)\n",
    "print(\"Y_train.shape = \",Y_train.shape)"
   ]
  },
  {
   "cell_type": "markdown",
   "id": "d95cce1b",
   "metadata": {},
   "source": [
    "# Data Normalization"
   ]
  },
  {
   "cell_type": "code",
   "execution_count": 54,
   "id": "a99c82e3",
   "metadata": {},
   "outputs": [],
   "source": [
    "x_train_min = X_train.min(axis = 0, keepdims = True)\n",
    "x_train_max = X_train.max(axis = 0, keepdims = True)\n",
    "\n",
    "X_train = (X_train - x_train_min)/(x_train_max - x_train_min)\n",
    "X_val = (X_val - x_train_min)/(x_train_max - x_train_min)\n",
    "X_test = (X_test - x_train_min)/(x_train_max - x_train_min)\n"
   ]
  },
  {
   "cell_type": "markdown",
   "id": "084fcf73",
   "metadata": {},
   "source": [
    "# Convolutional Neural Network"
   ]
  },
  {
   "cell_type": "code",
   "execution_count": 58,
   "id": "899c1a16",
   "metadata": {},
   "outputs": [],
   "source": [
    "\n",
    "def my_CNN_Model(k=1, lr=0.15):\n",
    "    \n",
    "    my_shape = (34,4)\n",
    "    model_input = Input(shape = my_shape)\n",
    "    l1 = Conv1D(32,3, padding='same', activation='relu')(model_input)\n",
    "    l2 = Conv1D(32,3, padding='same', activation='relu')(l1)\n",
    "    l2_drop =Dropout(0.25)(l2)\n",
    "    l3 = Conv1D(64,3, padding='same', activation='relu')(l2_drop)\n",
    "    l3_drop = Dropout(0.25)(l3)\n",
    "    out = Dense(1,activation = 'relu')(l3_drop)\n",
    "    model = tf.keras.models.Model(inputs = model_input, outputs = out)\n",
    "    model.compile(optimizer='adam', loss='mean_squared_error')\n",
    "    return model\n"
   ]
  },
  {
   "cell_type": "code",
   "execution_count": 59,
   "id": "0b34d376",
   "metadata": {},
   "outputs": [
    {
     "name": "stdout",
     "output_type": "stream",
     "text": [
      "WARNING:tensorflow:From C:\\Users\\tahmi\\anaconda3\\Lib\\site-packages\\keras\\src\\optimizers\\__init__.py:309: The name tf.train.Optimizer is deprecated. Please use tf.compat.v1.train.Optimizer instead.\n",
      "\n",
      "Model: \"model_5\"\n",
      "_________________________________________________________________\n",
      " Layer (type)                Output Shape              Param #   \n",
      "=================================================================\n",
      " input_13 (InputLayer)       [(None, 34, 4)]           0         \n",
      "                                                                 \n",
      " conv1d_26 (Conv1D)          (None, 34, 32)            416       \n",
      "                                                                 \n",
      " conv1d_27 (Conv1D)          (None, 34, 32)            3104      \n",
      "                                                                 \n",
      " dropout_15 (Dropout)        (None, 34, 32)            0         \n",
      "                                                                 \n",
      " conv1d_28 (Conv1D)          (None, 34, 64)            6208      \n",
      "                                                                 \n",
      " dropout_16 (Dropout)        (None, 34, 64)            0         \n",
      "                                                                 \n",
      " dense_6 (Dense)             (None, 34, 1)             65        \n",
      "                                                                 \n",
      "=================================================================\n",
      "Total params: 9793 (38.25 KB)\n",
      "Trainable params: 9793 (38.25 KB)\n",
      "Non-trainable params: 0 (0.00 Byte)\n",
      "_________________________________________________________________\n",
      "None\n"
     ]
    }
   ],
   "source": [
    "model = my_CNN_Model()\n",
    "print(model.summary())"
   ]
  },
  {
   "cell_type": "code",
   "execution_count": 60,
   "id": "b7f06896",
   "metadata": {},
   "outputs": [
    {
     "name": "stdout",
     "output_type": "stream",
     "text": [
      "Epoch 1/10\n",
      "WARNING:tensorflow:From C:\\Users\\tahmi\\anaconda3\\Lib\\site-packages\\keras\\src\\utils\\tf_utils.py:492: The name tf.ragged.RaggedTensorValue is deprecated. Please use tf.compat.v1.ragged.RaggedTensorValue instead.\n",
      "\n",
      "3/3 [==============================] - 1s 146ms/step - loss: 29388.7305 - val_loss: 32663.1191\n",
      "Epoch 2/10\n",
      "3/3 [==============================] - 0s 20ms/step - loss: 29329.4160 - val_loss: 32534.4551\n",
      "Epoch 3/10\n",
      "3/3 [==============================] - 0s 20ms/step - loss: 29249.1074 - val_loss: 32350.9492\n",
      "Epoch 4/10\n",
      "3/3 [==============================] - 0s 27ms/step - loss: 29130.3457 - val_loss: 32082.6992\n",
      "Epoch 5/10\n",
      "3/3 [==============================] - 0s 19ms/step - loss: 28973.3340 - val_loss: 31691.6074\n",
      "Epoch 6/10\n",
      "3/3 [==============================] - 0s 21ms/step - loss: 28738.7578 - val_loss: 31141.0703\n",
      "Epoch 7/10\n",
      "3/3 [==============================] - 0s 20ms/step - loss: 28397.5645 - val_loss: 30340.9434\n",
      "Epoch 8/10\n",
      "3/3 [==============================] - 0s 19ms/step - loss: 27926.4062 - val_loss: 29249.1797\n",
      "Epoch 9/10\n",
      "3/3 [==============================] - 0s 18ms/step - loss: 27276.9785 - val_loss: 27818.5762\n",
      "Epoch 10/10\n",
      "3/3 [==============================] - 0s 23ms/step - loss: 26419.1406 - val_loss: 26011.7910\n"
     ]
    }
   ],
   "source": [
    "my_batch_size = 50\n",
    "my_epochs = 10\n",
    "\n",
    "\n",
    "history = model.fit(X_train, Y_train, batch_size = my_batch_size, epochs = my_epochs,\n",
    "          verbose = 1,validation_data=(X_val,Y_val))"
   ]
  },
  {
   "cell_type": "code",
   "execution_count": 61,
   "id": "84f961c2",
   "metadata": {},
   "outputs": [
    {
     "name": "stdout",
     "output_type": "stream",
     "text": [
      "2/2 [==============================] - 0s 12ms/step - loss: 861136916316160.0000\n",
      "861136916316160.0\n"
     ]
    }
   ],
   "source": [
    "test_accuracy = model.evaluate(X_test,Y_test)\n",
    "print(test_accuracy)"
   ]
  },
  {
   "cell_type": "code",
   "execution_count": 62,
   "id": "7e5d02b8",
   "metadata": {},
   "outputs": [
    {
     "name": "stdout",
     "output_type": "stream",
     "text": [
      "2/2 [==============================] - 0s 5ms/step\n"
     ]
    }
   ],
   "source": [
    "predictedStockPrice = model.predict(X_test)"
   ]
  },
  {
   "cell_type": "code",
   "execution_count": 78,
   "id": "6e2bfd4f",
   "metadata": {},
   "outputs": [
    {
     "name": "stdout",
     "output_type": "stream",
     "text": [
      "(51,)\n",
      "(51,)\n"
     ]
    },
    {
     "data": {
      "image/png": "[encoded data removed]",
      "text/plain": [
       "<Figure size 640x480 with 1 Axes>"
      ]
     },
     "metadata": {},
     "output_type": "display_data"
    }
   ],
   "source": [
    "# Flatten the predictedStockPrice to match Y_test\n",
    "# Assuming the prediction you want is the last value in each window\n",
    "flattenedPredictions = predictedStockPrice[:, -1, 0]\n",
    "flattenedY = Y_test[:, -1, 0]\n",
    "print(flattenedY .shape)\n",
    "print(flattenedPredictions.shape)\n",
    "# Plotting\n",
    "plt.plot(flattenedY, color='red', label=\"Actual Stock Price\")\n",
    "plt.plot(flattenedPredictions, color='blue', label=\"Predicted Stock Price\")\n",
    "plt.title(\"Apple Stock Price Prediction\")\n",
    "plt.xlabel('Time or Sequence')\n",
    "plt.ylabel('Stock Price')\n",
    "plt.legend()\n",
    "plt.show()\n"
   ]
  },
  {
   "cell_type": "code",
   "execution_count": null,
   "id": "42ed40ec",
   "metadata": {},
   "outputs": [],
   "source": []
  }
 ],
 "metadata": {
  "kernelspec": {
   "display_name": "Python 3 (ipykernel)",
   "language": "python",
   "name": "python3"
  },
  "language_info": {
   "codemirror_mode": {
    "name": "ipython",
    "version": 3
   },
   "file_extension": ".py",
   "mimetype": "text/x-python",
   "name": "python",
   "nbconvert_exporter": "python",
   "pygments_lexer": "ipython3",
   "version": "3.11.5"
  }
 },
 "nbformat": 4,
 "nbformat_minor": 5
}
