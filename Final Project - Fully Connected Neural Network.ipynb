{
 "cells": [
  {
   "cell_type": "markdown",
   "id": "3612d2d7",
   "metadata": {},
   "source": [
    "# Final Project: Fully Connected Neural Network"
   ]
  },
  {
   "cell_type": "markdown",
   "id": "e530a4cc",
   "metadata": {},
   "source": [
    "# Importing Python Libraries"
   ]
  },
  {
   "cell_type": "code",
   "execution_count": 17,
   "id": "442cb29c",
   "metadata": {},
   "outputs": [],
   "source": [
    "%matplotlib inline \n",
    "import tensorflow as tf\n",
    "from tensorflow.keras.utils import to_categorical # Function to convert labels to one-hot encoding\n",
    "import pandas as pd  \n",
    "import numpy as np \n",
    "import matplotlib.pyplot as plt \n",
    "\n",
    "from tensorflow.keras.models import Model \n",
    "from tensorflow.keras.models import Sequential \n",
    "from tensorflow.keras.layers import Dense, Activation,Input\n"
   ]
  },
  {
   "cell_type": "markdown",
   "id": "7017e2fa",
   "metadata": {},
   "source": [
    "# Load dataset"
   ]
  },
  {
   "cell_type": "code",
   "execution_count": 4,
   "id": "286d4563",
   "metadata": {},
   "outputs": [
    {
     "data": {
      "text/html": [
       "<div>\n",
       "<style scoped>\n",
       "    .dataframe tbody tr th:only-of-type {\n",
       "        vertical-align: middle;\n",
       "    }\n",
       "\n",
       "    .dataframe tbody tr th {\n",
       "        vertical-align: top;\n",
       "    }\n",
       "\n",
       "    .dataframe thead th {\n",
       "        text-align: right;\n",
       "    }\n",
       "</style>\n",
       "<table border=\"1\" class=\"dataframe\">\n",
       "  <thead>\n",
       "    <tr style=\"text-align: right;\">\n",
       "      <th></th>\n",
       "      <th>Date</th>\n",
       "      <th>Open</th>\n",
       "      <th>High</th>\n",
       "      <th>Low</th>\n",
       "      <th>Close</th>\n",
       "      <th>Adj Close</th>\n",
       "      <th>Volume</th>\n",
       "    </tr>\n",
       "  </thead>\n",
       "  <tbody>\n",
       "    <tr>\n",
       "      <th>0</th>\n",
       "      <td>1/4/2023</td>\n",
       "      <td>126.889999</td>\n",
       "      <td>128.660004</td>\n",
       "      <td>125.080002</td>\n",
       "      <td>126.360001</td>\n",
       "      <td>125.657639</td>\n",
       "      <td>89113600</td>\n",
       "    </tr>\n",
       "    <tr>\n",
       "      <th>1</th>\n",
       "      <td>1/5/2023</td>\n",
       "      <td>127.129997</td>\n",
       "      <td>127.769997</td>\n",
       "      <td>124.760002</td>\n",
       "      <td>125.019997</td>\n",
       "      <td>124.325081</td>\n",
       "      <td>80962700</td>\n",
       "    </tr>\n",
       "    <tr>\n",
       "      <th>2</th>\n",
       "      <td>1/6/2023</td>\n",
       "      <td>126.010002</td>\n",
       "      <td>130.289993</td>\n",
       "      <td>124.889999</td>\n",
       "      <td>129.619995</td>\n",
       "      <td>128.899521</td>\n",
       "      <td>87754700</td>\n",
       "    </tr>\n",
       "    <tr>\n",
       "      <th>3</th>\n",
       "      <td>1/9/2023</td>\n",
       "      <td>130.470001</td>\n",
       "      <td>133.410004</td>\n",
       "      <td>129.889999</td>\n",
       "      <td>130.149994</td>\n",
       "      <td>129.426575</td>\n",
       "      <td>70790800</td>\n",
       "    </tr>\n",
       "    <tr>\n",
       "      <th>4</th>\n",
       "      <td>1/10/2023</td>\n",
       "      <td>130.259995</td>\n",
       "      <td>131.259995</td>\n",
       "      <td>128.119995</td>\n",
       "      <td>130.729996</td>\n",
       "      <td>130.003342</td>\n",
       "      <td>63896200</td>\n",
       "    </tr>\n",
       "    <tr>\n",
       "      <th>...</th>\n",
       "      <td>...</td>\n",
       "      <td>...</td>\n",
       "      <td>...</td>\n",
       "      <td>...</td>\n",
       "      <td>...</td>\n",
       "      <td>...</td>\n",
       "      <td>...</td>\n",
       "    </tr>\n",
       "    <tr>\n",
       "      <th>233</th>\n",
       "      <td>12/7/2023</td>\n",
       "      <td>193.630005</td>\n",
       "      <td>195.000000</td>\n",
       "      <td>193.589996</td>\n",
       "      <td>194.270004</td>\n",
       "      <td>194.270004</td>\n",
       "      <td>47477700</td>\n",
       "    </tr>\n",
       "    <tr>\n",
       "      <th>234</th>\n",
       "      <td>12/8/2023</td>\n",
       "      <td>194.199997</td>\n",
       "      <td>195.990005</td>\n",
       "      <td>193.669998</td>\n",
       "      <td>195.710007</td>\n",
       "      <td>195.710007</td>\n",
       "      <td>53377300</td>\n",
       "    </tr>\n",
       "    <tr>\n",
       "      <th>235</th>\n",
       "      <td>12/11/2023</td>\n",
       "      <td>193.110001</td>\n",
       "      <td>193.490005</td>\n",
       "      <td>191.419998</td>\n",
       "      <td>193.179993</td>\n",
       "      <td>193.179993</td>\n",
       "      <td>60943700</td>\n",
       "    </tr>\n",
       "    <tr>\n",
       "      <th>236</th>\n",
       "      <td>12/12/2023</td>\n",
       "      <td>193.080002</td>\n",
       "      <td>194.720001</td>\n",
       "      <td>191.720001</td>\n",
       "      <td>194.710007</td>\n",
       "      <td>194.710007</td>\n",
       "      <td>52696900</td>\n",
       "    </tr>\n",
       "    <tr>\n",
       "      <th>237</th>\n",
       "      <td>12/13/2023</td>\n",
       "      <td>195.089996</td>\n",
       "      <td>198.000000</td>\n",
       "      <td>194.880005</td>\n",
       "      <td>197.960007</td>\n",
       "      <td>197.960007</td>\n",
       "      <td>66539683</td>\n",
       "    </tr>\n",
       "  </tbody>\n",
       "</table>\n",
       "<p>238 rows × 7 columns</p>\n",
       "</div>"
      ],
      "text/plain": [
       "           Date        Open        High         Low       Close   Adj Close  \\\n",
       "0      1/4/2023  126.889999  128.660004  125.080002  126.360001  125.657639   \n",
       "1      1/5/2023  127.129997  127.769997  124.760002  125.019997  124.325081   \n",
       "2      1/6/2023  126.010002  130.289993  124.889999  129.619995  128.899521   \n",
       "3      1/9/2023  130.470001  133.410004  129.889999  130.149994  129.426575   \n",
       "4     1/10/2023  130.259995  131.259995  128.119995  130.729996  130.003342   \n",
       "..          ...         ...         ...         ...         ...         ...   \n",
       "233   12/7/2023  193.630005  195.000000  193.589996  194.270004  194.270004   \n",
       "234   12/8/2023  194.199997  195.990005  193.669998  195.710007  195.710007   \n",
       "235  12/11/2023  193.110001  193.490005  191.419998  193.179993  193.179993   \n",
       "236  12/12/2023  193.080002  194.720001  191.720001  194.710007  194.710007   \n",
       "237  12/13/2023  195.089996  198.000000  194.880005  197.960007  197.960007   \n",
       "\n",
       "       Volume  \n",
       "0    89113600  \n",
       "1    80962700  \n",
       "2    87754700  \n",
       "3    70790800  \n",
       "4    63896200  \n",
       "..        ...  \n",
       "233  47477700  \n",
       "234  53377300  \n",
       "235  60943700  \n",
       "236  52696900  \n",
       "237  66539683  \n",
       "\n",
       "[238 rows x 7 columns]"
      ]
     },
     "execution_count": 4,
     "metadata": {},
     "output_type": "execute_result"
    }
   ],
   "source": [
    "dataset = pd.read_csv(\"AAPL.csv\")\n",
    "dataset"
   ]
  },
  {
   "cell_type": "markdown",
   "id": "20fc16dc",
   "metadata": {},
   "source": [
    "# Train, Validation and Test Sets Split"
   ]
  },
  {
   "cell_type": "code",
   "execution_count": 8,
   "id": "3ea4f0a0",
   "metadata": {},
   "outputs": [
    {
     "name": "stdout",
     "output_type": "stream",
     "text": [
      "X_train.shape =  (119, 4)\n",
      "Y_train.shape =  (119,)\n"
     ]
    }
   ],
   "source": [
    "# Extracting the features and labels from the dataset \n",
    "X = np.asarray(dataset[['Open', 'High', 'Low', 'Volume']])\n",
    "Y = np.asarray(dataset['Close'])\n",
    "\n",
    "# First we will shuffle the samples\n",
    "indexes = np.arange(X.shape[0])\n",
    "np.random.shuffle(indexes)\n",
    "X = X[indexes,:]\n",
    "Y = Y[indexes]\n",
    "\n",
    "# Then, we split our data into train/val/test sets\n",
    "train_split = int(0.5*Y.size)\n",
    "val_split = int(0.75*Y.size)\n",
    "\n",
    "X_train = X[:train_split,:]\n",
    "Y_train = Y[:train_split]\n",
    "\n",
    "X_val = X[train_split:val_split,:]\n",
    "Y_val = Y[train_split:val_split]\n",
    "\n",
    "X_test = X[val_split:,:]\n",
    "Y_test = Y[val_split:]\n",
    "\n",
    "print(\"X_train.shape = \",X_train.shape)\n",
    "print(\"Y_train.shape = \",Y_train.shape)"
   ]
  },
  {
   "cell_type": "markdown",
   "id": "d95cce1b",
   "metadata": {},
   "source": [
    "# Data Normalization"
   ]
  },
  {
   "cell_type": "code",
   "execution_count": 9,
   "id": "a99c82e3",
   "metadata": {},
   "outputs": [],
   "source": [
    "x_train_min = X_train.min(axis = 0, keepdims = True)\n",
    "x_train_max = X_train.max(axis = 0, keepdims = True)\n",
    "\n",
    "X_train = (X_train - x_train_min)/(x_train_max - x_train_min)\n",
    "X_val = (X_val - x_train_min)/(x_train_max - x_train_min)\n",
    "X_test = (X_test - x_train_min)/(x_train_max - x_train_min)\n"
   ]
  },
  {
   "cell_type": "markdown",
   "id": "084fcf73",
   "metadata": {},
   "source": [
    "# Fully Connected Neural Network"
   ]
  },
  {
   "cell_type": "code",
   "execution_count": 26,
   "id": "899c1a16",
   "metadata": {},
   "outputs": [],
   "source": [
    "\n",
    "def my_FullyConnectedModel(k=3, lr=0.15):\n",
    "\n",
    "    model = Sequential([\n",
    "        Dense(128, activation='relu', input_shape=(4,)),  # 4 input features: 'Open', 'High', 'Low', 'Volume'\n",
    "        Dense(64, activation='relu'),\n",
    "        Dense(32, activation='relu'),\n",
    "        Dense(1)  # Output layer: predicting 'Close' value\n",
    "    ])\n",
    "    model.compile(optimizer='adam', loss='mean_squared_error')\n",
    "    return model\n"
   ]
  },
  {
   "cell_type": "code",
   "execution_count": 27,
   "id": "0b34d376",
   "metadata": {},
   "outputs": [
    {
     "name": "stdout",
     "output_type": "stream",
     "text": [
      "WARNING:tensorflow:From C:\\Users\\tahmi\\anaconda3\\Lib\\site-packages\\keras\\src\\optimizers\\__init__.py:309: The name tf.train.Optimizer is deprecated. Please use tf.compat.v1.train.Optimizer instead.\n",
      "\n",
      "Model: \"sequential_2\"\n",
      "_________________________________________________________________\n",
      " Layer (type)                Output Shape              Param #   \n",
      "=================================================================\n",
      " dense_8 (Dense)             (None, 128)               640       \n",
      "                                                                 \n",
      " dense_9 (Dense)             (None, 64)                8256      \n",
      "                                                                 \n",
      " dense_10 (Dense)            (None, 32)                2080      \n",
      "                                                                 \n",
      " dense_11 (Dense)            (None, 1)                 33        \n",
      "                                                                 \n",
      "=================================================================\n",
      "Total params: 11009 (43.00 KB)\n",
      "Trainable params: 11009 (43.00 KB)\n",
      "Non-trainable params: 0 (0.00 Byte)\n",
      "_________________________________________________________________\n",
      "None\n"
     ]
    }
   ],
   "source": [
    "model = my_FullyConnectedModel()\n",
    "print(model.summary())"
   ]
  },
  {
   "cell_type": "code",
   "execution_count": 28,
   "id": "19dcd394",
   "metadata": {},
   "outputs": [
    {
     "name": "stdout",
     "output_type": "stream",
     "text": [
      "Epoch 1/20\n",
      "3/3 [==============================] - 1s 68ms/step - loss: 29721.3945 - val_loss: 29842.9102\n",
      "Epoch 2/20\n",
      "3/3 [==============================] - 0s 16ms/step - loss: 29652.3867 - val_loss: 29779.1055\n",
      "Epoch 3/20\n",
      "3/3 [==============================] - 0s 20ms/step - loss: 29586.6445 - val_loss: 29712.5508\n",
      "Epoch 4/20\n",
      "3/3 [==============================] - 0s 19ms/step - loss: 29518.3398 - val_loss: 29641.7715\n",
      "Epoch 5/20\n",
      "3/3 [==============================] - 0s 26ms/step - loss: 29446.1562 - val_loss: 29557.1523\n",
      "Epoch 6/20\n",
      "3/3 [==============================] - 0s 18ms/step - loss: 29356.5664 - val_loss: 29456.9199\n",
      "Epoch 7/20\n",
      "3/3 [==============================] - 0s 23ms/step - loss: 29251.1055 - val_loss: 29338.0469\n",
      "Epoch 8/20\n",
      "3/3 [==============================] - 0s 20ms/step - loss: 29126.3906 - val_loss: 29197.8027\n",
      "Epoch 9/20\n",
      "3/3 [==============================] - 0s 19ms/step - loss: 28979.6055 - val_loss: 29029.4688\n",
      "Epoch 10/20\n",
      "3/3 [==============================] - 0s 17ms/step - loss: 28802.0117 - val_loss: 28826.1230\n",
      "Epoch 11/20\n",
      "3/3 [==============================] - 0s 16ms/step - loss: 28587.8809 - val_loss: 28579.7969\n",
      "Epoch 12/20\n",
      "3/3 [==============================] - 0s 19ms/step - loss: 28328.4824 - val_loss: 28284.8926\n",
      "Epoch 13/20\n",
      "3/3 [==============================] - 0s 17ms/step - loss: 28021.4453 - val_loss: 27933.7910\n",
      "Epoch 14/20\n",
      "3/3 [==============================] - 0s 15ms/step - loss: 27644.4609 - val_loss: 27517.7402\n",
      "Epoch 15/20\n",
      "3/3 [==============================] - 0s 12ms/step - loss: 27209.9668 - val_loss: 27023.9141\n",
      "Epoch 16/20\n",
      "3/3 [==============================] - 0s 16ms/step - loss: 26695.1719 - val_loss: 26442.3086\n",
      "Epoch 17/20\n",
      "3/3 [==============================] - 0s 17ms/step - loss: 26094.0586 - val_loss: 25762.2754\n",
      "Epoch 18/20\n",
      "3/3 [==============================] - 0s 17ms/step - loss: 25375.0234 - val_loss: 24973.2891\n",
      "Epoch 19/20\n",
      "3/3 [==============================] - 0s 16ms/step - loss: 24537.4395 - val_loss: 24062.6465\n",
      "Epoch 20/20\n",
      "3/3 [==============================] - 0s 17ms/step - loss: 23603.4492 - val_loss: 23019.0273\n"
     ]
    }
   ],
   "source": [
    "my_batch_size = 50\n",
    "my_epochs = 20\n",
    "\n",
    "history = model.fit(X_train, Y_train, validation_data=(X_val,Y_val),\n",
    "                    batch_size=my_batch_size, epochs=my_epochs,verbose=1)"
   ]
  },
  {
   "cell_type": "code",
   "execution_count": 30,
   "id": "84f961c2",
   "metadata": {},
   "outputs": [
    {
     "name": "stdout",
     "output_type": "stream",
     "text": [
      "2/2 [==============================] - 0s 7ms/step - loss: 22701.8418\n",
      "22701.841796875\n"
     ]
    }
   ],
   "source": [
    "test_accuracy = model.evaluate(X_test,Y_test)\n",
    "print(test_accuracy)"
   ]
  },
  {
   "cell_type": "code",
   "execution_count": 31,
   "id": "7e5d02b8",
   "metadata": {},
   "outputs": [
    {
     "name": "stdout",
     "output_type": "stream",
     "text": [
      "2/2 [==============================] - 0s 4ms/step\n"
     ]
    }
   ],
   "source": [
    "predictedStockPrice = model.predict(X_test)"
   ]
  },
  {
   "cell_type": "code",
   "execution_count": 33,
   "id": "6e2bfd4f",
   "metadata": {},
   "outputs": [
    {
     "data": {
      "text/plain": [
       "<matplotlib.legend.Legend at 0x2088fb34210>"
      ]
     },
     "execution_count": 33,
     "metadata": {},
     "output_type": "execute_result"
    },
    {
     "data": {
      "image/png": "[encoded data removed]",
      "text/plain": [
       "<Figure size 640x480 with 1 Axes>"
      ]
     },
     "metadata": {},
     "output_type": "display_data"
    }
   ],
   "source": [
    "plt.plot(Y_test, color = 'red', label = \"Actual Stock Price\")\n",
    "plt.plot(predictedStockPrice, color = 'blue', label = \"Predicted Stock Price\")\n",
    "plt.title(\"Apple Stock Prediction\")\n",
    "plt.ylabel('Stock Price')\n",
    "plt.legend()"
   ]
  },
  {
   "cell_type": "code",
   "execution_count": null,
   "id": "42ed40ec",
   "metadata": {},
   "outputs": [],
   "source": []
  }
 ],
 "metadata": {
  "kernelspec": {
   "display_name": "Python 3 (ipykernel)",
   "language": "python",
   "name": "python3"
  },
  "language_info": {
   "codemirror_mode": {
    "name": "ipython",
    "version": 3
   },
   "file_extension": ".py",
   "mimetype": "text/x-python",
   "name": "python",
   "nbconvert_exporter": "python",
   "pygments_lexer": "ipython3",
   "version": "3.11.5"
  }
 },
 "nbformat": 4,
 "nbformat_minor": 5
}
